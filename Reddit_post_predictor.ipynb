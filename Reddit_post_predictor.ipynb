{
 "cells": [
  {
   "cell_type": "markdown",
   "metadata": {
    "focus": false,
    "id": "a948d79c-5527-4c0d-ab23-f5d43ce72056"
   },
   "source": [
    "### Scraping Thread Info from Reddit.com"
   ]
  },
  {
   "cell_type": "markdown",
   "metadata": {},
   "source": [
    "#### Set up a request (using requests) to the URL below. \n",
    "\n",
    "*NOTE*: Reddit will throw a [429 error](https://httpstatuses.com/429) when using the following code:\n",
    "```python\n",
    "res = requests.get(URL)\n",
    "```\n",
    "\n",
    "This is because Reddit has throttled python's default user agent. You'll need to set a custom `User-agent` to get your request to work.\n",
    "```python\n",
    "res = requests.get(URL, headers={'User-agent': 'YOUR NAME Bot 0.1'})\n",
    "```"
   ]
  },
  {
   "cell_type": "code",
   "execution_count": 902,
   "metadata": {},
   "outputs": [],
   "source": [
    "import requests\n",
    "import json\n",
    "import praw\n",
    "import pandas as pd\n",
    "from bs4 import BeautifulSoup\n",
    "from selenium import webdriver\n",
    "from time import sleep\n",
    "import pandas as pd\n",
    "import numpy as np\n",
    "from sklearn.model_selection import train_test_split, GridSearchCV\n",
    "from sklearn.tree import DecisionTreeClassifier, DecisionTreeRegressor\n",
    "from sklearn.ensemble import BaggingClassifier, RandomForestClassifier, ExtraTreesClassifier, BaggingRegressor, RandomForestRegressor, ExtraTreesRegressor\n",
    "import matplotlib.pyplot as plt\n",
    "import seaborn as sns\n",
    "import scipy.stats as stats\n",
    "from sklearn.linear_model import Ridge, Lasso, ElasticNet, LinearRegression, RidgeCV, LassoCV, ElasticNetCV, LogisticRegression\n",
    "from sklearn.model_selection import train_test_split, KFold, cross_val_score\n",
    "from sklearn import metrics\n",
    "from sklearn.preprocessing import PolynomialFeatures, StandardScaler\n",
    "from sklearn.neighbors import KNeighborsClassifier, KNeighborsRegressor\n",
    "from sklearn.model_selection import GridSearchCV\n",
    "from sklearn.pipeline import Pipeline\n",
    "from sklearn.ensemble import GradientBoostingRegressor \n",
    "from sklearn.ensemble import AdaBoostClassifier,VotingClassifier, AdaBoostRegressor\n",
    "from sklearn.svm import SVC\n",
    "from sklearn.metrics import mean_squared_error, f1_score\n",
    "from datetime import datetime\n",
    "import re\n",
    "import regex\n",
    "from nltk.corpus import stopwords\n",
    "from nltk.stem.porter import PorterStemmer\n",
    "from sklearn.feature_extraction.text import CountVectorizer\n",
    "from sklearn.pipeline import Pipeline\n",
    "from sklearn.ensemble import AdaBoostClassifier, GradientBoostingClassifier, VotingClassifier\n",
    "from sklearn.feature_extraction.text import TfidfVectorizer"
   ]
  },
  {
   "cell_type": "code",
   "execution_count": 3,
   "metadata": {},
   "outputs": [],
   "source": [
    "URL = \"http://www.reddit.com/hot.json\""
   ]
  },
  {
   "cell_type": "code",
   "execution_count": 30,
   "metadata": {},
   "outputs": [
    {
     "name": "stdout",
     "output_type": "stream",
     "text": [
      "False\n"
     ]
    }
   ],
   "source": [
    "reddit = praw.Reddit(client_id='oQpDWKR62bbC_g',\n",
    "                     client_secret='3X7p-nH9G4LS_HC_WG1wW4F96rI',\n",
    "                     user_agent='my user agent',\n",
    "                     username='PorkchopDidgeridoo',\n",
    "                     password='cookies')\n",
    "\n",
    "print(reddit.read_only)  # Output: False for authorized\n",
    "                         #         True for read-only"
   ]
  },
  {
   "cell_type": "code",
   "execution_count": 125,
   "metadata": {},
   "outputs": [],
   "source": [
    "#THESE ARE THE FEATURES I SCRAPED FROM THE r/HOT\n",
    "\n",
    "reddit_dict = {\n",
    "    'title': [],\n",
    "    'updoots': [],\n",
    "    'subreddit': [],\n",
    "    'subs':[],\n",
    "    'user_id': [],\n",
    "    'url': [],\n",
    "    'comments':[],\n",
    "    'post_time':[],\n",
    "    'nsfw':[],\n",
    "    'spoiler':[],\n",
    "    'author_un':[]\n",
    "              }"
   ]
  },
  {
   "cell_type": "code",
   "execution_count": 126,
   "metadata": {},
   "outputs": [],
   "source": [
    "\n",
    "def get_reddit_data(r_dict):\n",
    "    for submission in reddit.subreddit('popular').hot(limit=None):\n",
    "        r_dict['title'].append(submission.title) # Output: the submission's title\n",
    "        r_dict['updoots'].append(submission.score)  # Output: the submission's score\n",
    "        r_dict['subreddit'].append(submission.subreddit_name_prefixed)  # Output: the submission's subreddit\n",
    "        r_dict['subs'].append(submission.subreddit_subscribers)  # Output: the subreddit cubscribers\n",
    "        r_dict['user_id'].append(submission.id)     # Output: the submittor's ID\n",
    "        r_dict['url'].append(submission.url)        # Append: the submission's URL\n",
    "        r_dict['comments'].append(submission.num_comments) #Append: the submission's Comment Count\n",
    "        r_dict['post_time'].append(datetime.utcfromtimestamp(submission.created_utc)) #Append: When the submission was posted\n",
    "        r_dict['nsfw'].append(submission.over_18) # NSFW tag\n",
    "        r_dict['spoiler'].append(submission.spoiler) #Spoiler tag\n",
    "        r_dict['author_un'].append(submission.author) # Author UserName\n",
    "        \n",
    "    return r_dict\n",
    "    "
   ]
  },
  {
   "cell_type": "code",
   "execution_count": 160,
   "metadata": {},
   "outputs": [
    {
     "name": "stdout",
     "output_type": "stream",
     "text": [
      "Wall time: 1min 33s\n"
     ]
    }
   ],
   "source": [
    "%%time\n",
    "df = pd.DataFrame()  \n",
    "\n",
    "# for x in range(3): #LONG OVERNIGHT SCRAPING SCRIPT\n",
    "#     reddit_dict = get_reddit_data(reddit_dict)\n",
    "#     df = pd.concat([df,pd.DataFrame(reddit_dict)],axis=0,ignore_index=True)\n",
    "#     df.to_csv('updated_reddit.csv')\n",
    "#     sleep(7200)\n",
    "    \n",
    "reddit_dict = get_reddit_data(reddit_dict)\n",
    "df = pd.concat([df,pd.DataFrame(reddit_dict)],axis=0,ignore_index=True)\n",
    "df.to_csv('531_1137_reddit.csv')\n",
    "    \n",
    "    "
   ]
  },
  {
   "cell_type": "code",
   "execution_count": 162,
   "metadata": {},
   "outputs": [
    {
     "name": "stdout",
     "output_type": "stream",
     "text": [
      "Wall time: 229 ms\n"
     ]
    }
   ],
   "source": [
    "%%time\n",
    "df_morning = pd.read_csv('531_1137_reddit.csv')\n",
    "df_overnight = pd.read_csv('updated_reddit.csv')"
   ]
  },
  {
   "cell_type": "code",
   "execution_count": 166,
   "metadata": {},
   "outputs": [
    {
     "data": {
      "text/plain": [
       "(57750, 12)"
      ]
     },
     "execution_count": 166,
     "metadata": {},
     "output_type": "execute_result"
    }
   ],
   "source": [
    "df_tot = pd.concat([df_morning,df_overnight],axis=0) #JUST COMBINING MY TWO BIG SCRAPE SETS\n",
    "df_tot.shape"
   ]
  },
  {
   "cell_type": "code",
   "execution_count": 174,
   "metadata": {},
   "outputs": [],
   "source": [
    "df_unique = df_tot[~df_tot.duplicated(subset=['author_un','title'],keep='last')] #CUTTING OUT DUPES"
   ]
  },
  {
   "cell_type": "code",
   "execution_count": 180,
   "metadata": {},
   "outputs": [
    {
     "data": {
      "text/plain": [
       "14.0"
      ]
     },
     "execution_count": 180,
     "metadata": {},
     "output_type": "execute_result"
    }
   ],
   "source": [
    "df_unique['comments'].median()"
   ]
  },
  {
   "cell_type": "code",
   "execution_count": 182,
   "metadata": {},
   "outputs": [],
   "source": [
    "df = df_unique"
   ]
  },
  {
   "cell_type": "code",
   "execution_count": 186,
   "metadata": {},
   "outputs": [
    {
     "name": "stderr",
     "output_type": "stream",
     "text": [
      "C:\\Users\\Johnny\\AppData\\Local\\Continuum\\anaconda3\\lib\\site-packages\\ipykernel_launcher.py:1: SettingWithCopyWarning: \n",
      "A value is trying to be set on a copy of a slice from a DataFrame.\n",
      "Try using .loc[row_indexer,col_indexer] = value instead\n",
      "\n",
      "See the caveats in the documentation: http://pandas.pydata.org/pandas-docs/stable/indexing.html#indexing-view-versus-copy\n",
      "  \"\"\"Entry point for launching an IPython kernel.\n"
     ]
    }
   ],
   "source": [
    "df['target'] = [1 if x > 38 else 0 for x in df['comments']]"
   ]
  },
  {
   "cell_type": "code",
   "execution_count": 203,
   "metadata": {},
   "outputs": [
    {
     "data": {
      "text/plain": [
       "'13:48'"
      ]
     },
     "execution_count": 203,
     "metadata": {},
     "output_type": "execute_result"
    }
   ],
   "source": [
    "df['post_time'][17332][-8:-3]"
   ]
  },
  {
   "cell_type": "code",
   "execution_count": 214,
   "metadata": {},
   "outputs": [],
   "source": [
    "#Making a decimal value time posted column\n",
    "\n",
    "new_time_lst = []\n",
    "for x in df['post_time']:\n",
    "    new_time_lst.append(int(x[-8:-6]) + int(x[-5:-3])/60)"
   ]
  },
  {
   "cell_type": "code",
   "execution_count": 217,
   "metadata": {},
   "outputs": [
    {
     "name": "stderr",
     "output_type": "stream",
     "text": [
      "C:\\Users\\Johnny\\AppData\\Local\\Continuum\\anaconda3\\lib\\site-packages\\pandas\\core\\indexing.py:537: SettingWithCopyWarning: \n",
      "A value is trying to be set on a copy of a slice from a DataFrame.\n",
      "Try using .loc[row_indexer,col_indexer] = value instead\n",
      "\n",
      "See the caveats in the documentation: http://pandas.pydata.org/pandas-docs/stable/indexing.html#indexing-view-versus-copy\n",
      "  self.obj[item] = s\n"
     ]
    }
   ],
   "source": [
    "df.loc[:,'dec_post_time'] = new_time_lst # Assigning it"
   ]
  },
  {
   "cell_type": "code",
   "execution_count": 249,
   "metadata": {
    "focus": false,
    "id": "783fd153-28ac-47ab-bfca-27e7c1de95b4"
   },
   "outputs": [
    {
     "data": {
      "text/plain": [
       "['cnbc.com', 'id', '105241999']"
      ]
     },
     "execution_count": 249,
     "metadata": {},
     "output_type": "execute_result"
    }
   ],
   "source": [
    "df['url'][17332].split('//')[1].split('/')"
   ]
  },
  {
   "cell_type": "code",
   "execution_count": 256,
   "metadata": {},
   "outputs": [],
   "source": [
    "df_1 = df.copy()"
   ]
  },
  {
   "cell_type": "code",
   "execution_count": 257,
   "metadata": {},
   "outputs": [],
   "source": [
    "domain = [] #GET the domain down to a usable length\n",
    "for x in df_1['url']:\n",
    "    domain.append(x.split('//')[1].split('/')[0])\n",
    "    \n",
    "df_1['domain'] = domain"
   ]
  },
  {
   "cell_type": "code",
   "execution_count": 1125,
   "metadata": {
    "scrolled": true
   },
   "outputs": [],
   "source": [
    "df = pd.read_csv('cleaned_df.csv')\n",
    "df['time_int'] = [int(x) for x in df['dec_post_time']] # make in integer level time columns\n",
    "df = df[df['comments']<2000].copy()\n",
    "df['target'] = [1 if x > 38 else 0 for x in df['comments']] # 75%\n",
    "df.reset_index(drop=True,inplace=True)"
   ]
  },
  {
   "cell_type": "code",
   "execution_count": null,
   "metadata": {},
   "outputs": [],
   "source": []
  },
  {
   "cell_type": "code",
   "execution_count": 1126,
   "metadata": {},
   "outputs": [],
   "source": [
    "def title_cleaner(title):\n",
    "    p_stem = PorterStemmer()\n",
    "    # 1. Kill all punctuation\n",
    "    no_punc = regex.sub('[\\p{P}]', '', title)\n",
    "    #\n",
    "    # 2. Convert to lower case, split into individual words\n",
    "    words = no_punc.lower().split()\n",
    "    #\n",
    "    # 3. In Python, searching a set is much faster than searching\n",
    "    #   a list, so convert the stop words to a set\n",
    "    stops = set(stopwords.words('english'))\n",
    "    # \n",
    "    # 4. Remove stop words\n",
    "    meaningful_words = [w for w in words if not w in stops]\n",
    "    #\n",
    "    stemmed = [p_stem.stem(x) for x in meaningful_words]\n",
    "    # 5. Join the words back into one string separated by space, \n",
    "    # and return the result.\n",
    "    \n",
    "    return \" \".join(meaningful_words)"
   ]
  },
  {
   "cell_type": "markdown",
   "metadata": {},
   "source": [
    "# THIS CELL SETS YOUR FEATURES YO!"
   ]
  },
  {
   "cell_type": "code",
   "execution_count": 1127,
   "metadata": {},
   "outputs": [],
   "source": [
    "dummy = ['subreddit','domain' ]#'subreddit','domain'\n",
    "tf_features = ['nsfw','spoiler' ]#'nsfw','spoiler'\n",
    "features = ['subs','dec_post_time']#subs','dec_post_time','time_int'\n",
    "nlp ='title'#'title'\n",
    "target = 'target'"
   ]
  },
  {
   "cell_type": "code",
   "execution_count": 1128,
   "metadata": {
    "focus": false,
    "id": "588f9845-6143-4bcc-bfd1-85d45b79303d"
   },
   "outputs": [],
   "source": [
    "def make_final_df_and_target(df,dum_list,tf_features,feature_list,nlp_list, target, max_features):\n",
    "    '''\n",
    "    Takes in Dataframe and lists of features to alter and returns an X, y\n",
    "    \n",
    "    df: dataframe to pull from\n",
    "    \n",
    "    dum_list: list of features you want to one hot encode\n",
    "    \n",
    "    tf_features: features already in True/False format\n",
    "    \n",
    "    feature_list: list of numeric features ready for modeling\n",
    "    \n",
    "    nlp_list: list of features that you want to use NLP on \n",
    "    \n",
    "    target: column name of your target variable\n",
    "    \n",
    "    Thanks for reading the documentation ya filthy animal ;)\n",
    "    '''\n",
    "    y = df[target]\n",
    "    X = pd.DataFrame()\n",
    "    X = df[feature_list].copy()\n",
    "    \n",
    "    X[feature_list] = df[feature_list].astype(float).copy() # Feature List copy over\n",
    "    \n",
    "    X[tf_features] = df[tf_features].astype(int).copy() # Binary the True/False cols\n",
    "    \n",
    "    X[dummy] = df[dummy]\n",
    "    X = pd.get_dummies(X, columns=dummy, drop_first=True, prefix=None) #Set Dummies\n",
    "    \n",
    "    X['title_len'] = [len(x.split()) for x in df['title']]\n",
    "    \n",
    "    df[nlp] = [title_cleaner(x) for x in df[nlp]]\n",
    "    \n",
    "    vectorizer = CountVectorizer(analyzer = \"word\",   \\\n",
    "                             tokenizer = None,    \\\n",
    "                             preprocessor = None, \\\n",
    "                             stop_words = None,   \\\n",
    "                             max_features = max_features) \n",
    "\n",
    "#     # fit_transform() does two functions: First, it fits the model\n",
    "#     # and learns the vocabulary; second, it transforms our training data\n",
    "#     # into feature vectors. The input to fit_transform should be a list of \n",
    "#     # strings.\n",
    "    train_data_features = vectorizer.fit_transform(df[nlp])\n",
    "\n",
    "    vector_df = pd.DataFrame(data=train_data_features.toarray(), columns = vectorizer.get_feature_names())\n",
    "\n",
    "    \n",
    "    X = pd.concat([X,vector_df], axis = 1)\n",
    "#     print(X.shape)\n",
    "    \n",
    "#     tvec = TfidfVectorizer()\n",
    "#     tvec.fit_transform(df[nlp])\n",
    "    \n",
    "#     tvec_df  = pd.DataFrame(tvec.toarray(), columns=tvec.get_feature_names())\n",
    "    \n",
    "    return X, y\n",
    "    \n",
    "    "
   ]
  },
  {
   "cell_type": "code",
   "execution_count": 1130,
   "metadata": {
    "focus": false,
    "id": "c20d2498-151c-44c3-a453-3a333c79a0ac"
   },
   "outputs": [
    {
     "name": "stdout",
     "output_type": "stream",
     "text": [
      "(11025, 4017)\n"
     ]
    },
    {
     "ename": "AttributeError",
     "evalue": "'TfidfVectorizer' object has no attribute 'todense'",
     "output_type": "error",
     "traceback": [
      "\u001b[1;31m---------------------------------------------------------------------------\u001b[0m",
      "\u001b[1;31mAttributeError\u001b[0m                            Traceback (most recent call last)",
      "\u001b[1;32m<ipython-input-1130-cdb6be41b487>\u001b[0m in \u001b[0;36m<module>\u001b[1;34m()\u001b[0m\n\u001b[1;32m----> 1\u001b[1;33m \u001b[0mX\u001b[0m\u001b[1;33m,\u001b[0m \u001b[0my\u001b[0m \u001b[1;33m=\u001b[0m \u001b[0mmake_final_df_and_target\u001b[0m\u001b[1;33m(\u001b[0m\u001b[0mdf\u001b[0m\u001b[1;33m,\u001b[0m\u001b[0mdummy\u001b[0m\u001b[1;33m,\u001b[0m\u001b[0mtf_features\u001b[0m\u001b[1;33m,\u001b[0m \u001b[0mfeatures\u001b[0m\u001b[1;33m,\u001b[0m \u001b[0mnlp\u001b[0m\u001b[1;33m,\u001b[0m \u001b[0mtarget\u001b[0m\u001b[1;33m,\u001b[0m \u001b[0mmax_features\u001b[0m\u001b[1;33m=\u001b[0m\u001b[1;36m800\u001b[0m\u001b[1;33m)\u001b[0m\u001b[1;33m\u001b[0m\u001b[0m\n\u001b[0m\u001b[0;32m      2\u001b[0m \u001b[0mX_train\u001b[0m\u001b[1;33m,\u001b[0m \u001b[0mX_test\u001b[0m\u001b[1;33m,\u001b[0m \u001b[0my_train\u001b[0m\u001b[1;33m,\u001b[0m \u001b[0my_test\u001b[0m \u001b[1;33m=\u001b[0m \u001b[0mtrain_test_split\u001b[0m\u001b[1;33m(\u001b[0m\u001b[0mX\u001b[0m\u001b[1;33m,\u001b[0m \u001b[0my\u001b[0m\u001b[1;33m,\u001b[0m \u001b[0mtest_size\u001b[0m\u001b[1;33m=\u001b[0m\u001b[1;36m0.33\u001b[0m\u001b[1;33m,\u001b[0m \u001b[0mrandom_state\u001b[0m\u001b[1;33m=\u001b[0m\u001b[1;36m666\u001b[0m\u001b[1;33m)\u001b[0m\u001b[1;33m\u001b[0m\u001b[0m\n\u001b[0;32m      3\u001b[0m \u001b[0mX\u001b[0m\u001b[1;33m.\u001b[0m\u001b[0mhead\u001b[0m\u001b[1;33m(\u001b[0m\u001b[1;33m)\u001b[0m\u001b[1;33m\u001b[0m\u001b[0m\n",
      "\u001b[1;32m<ipython-input-1128-66c437fa9288>\u001b[0m in \u001b[0;36mmake_final_df_and_target\u001b[1;34m(df, dum_list, tf_features, feature_list, nlp_list, target, max_features)\u001b[0m\n\u001b[0;32m     49\u001b[0m     \u001b[0mtvec\u001b[0m\u001b[1;33m.\u001b[0m\u001b[0mfit_transform\u001b[0m\u001b[1;33m(\u001b[0m\u001b[0mdf\u001b[0m\u001b[1;33m[\u001b[0m\u001b[0mnlp\u001b[0m\u001b[1;33m]\u001b[0m\u001b[1;33m)\u001b[0m\u001b[1;33m\u001b[0m\u001b[0m\n\u001b[0;32m     50\u001b[0m \u001b[1;33m\u001b[0m\u001b[0m\n\u001b[1;32m---> 51\u001b[1;33m     \u001b[0mtvec_df\u001b[0m  \u001b[1;33m=\u001b[0m \u001b[0mpd\u001b[0m\u001b[1;33m.\u001b[0m\u001b[0mDataFrame\u001b[0m\u001b[1;33m(\u001b[0m\u001b[0mtvec\u001b[0m\u001b[1;33m.\u001b[0m\u001b[0mtodense\u001b[0m\u001b[1;33m(\u001b[0m\u001b[1;33m)\u001b[0m\u001b[1;33m.\u001b[0m\u001b[0mtoarray\u001b[0m\u001b[1;33m(\u001b[0m\u001b[1;33m)\u001b[0m\u001b[1;33m,\u001b[0m \u001b[0mcolumns\u001b[0m\u001b[1;33m=\u001b[0m\u001b[0mtvec\u001b[0m\u001b[1;33m.\u001b[0m\u001b[0mget_feature_names\u001b[0m\u001b[1;33m(\u001b[0m\u001b[1;33m)\u001b[0m\u001b[1;33m)\u001b[0m\u001b[1;33m\u001b[0m\u001b[0m\n\u001b[0m\u001b[0;32m     52\u001b[0m \u001b[1;33m\u001b[0m\u001b[0m\n\u001b[0;32m     53\u001b[0m     \u001b[1;32mreturn\u001b[0m \u001b[0mX\u001b[0m\u001b[1;33m,\u001b[0m \u001b[0my\u001b[0m\u001b[1;33m\u001b[0m\u001b[0m\n",
      "\u001b[1;31mAttributeError\u001b[0m: 'TfidfVectorizer' object has no attribute 'todense'"
     ]
    }
   ],
   "source": [
    "X, y = make_final_df_and_target(df,dummy,tf_features, features, nlp, target, max_features=800)\n",
    "X_train, X_test, y_train, y_test = train_test_split(X, y, test_size=0.33, random_state=666)\n",
    "X.head()"
   ]
  },
  {
   "cell_type": "code",
   "execution_count": 941,
   "metadata": {
    "focus": false,
    "id": "ddbc6159-6854-4ca7-857f-bfecdaf6d9c2"
   },
   "outputs": [],
   "source": [
    "# %%time\n",
    "\n",
    "# gamma_range = np.logspace(-5, 2, 10)\n",
    "# C_range = np.logspace(-3, 2, 10)\n",
    "# kernel_range = ['rbf', 'sigmoid', 'linear', 'poly']\n",
    "\n",
    "# param_grid = dict(gamma=gamma_range, C=C_range, kernel=kernel_range)\n",
    "\n",
    "# clf = svm.SVC() # Support vector classifier\n",
    "# grid = GridSearchCV(clf, param_grid=param_grid, cv=5,scoring='accuracy',verbose=1, n_jobs=-1)\n",
    "# grid.fit(X_train,y_train)\n",
    "\n",
    "\n",
    "# print(grid.score(X_test, y_test))\n"
   ]
  },
  {
   "cell_type": "code",
   "execution_count": 947,
   "metadata": {},
   "outputs": [
    {
     "name": "stdout",
     "output_type": "stream",
     "text": [
      "Fitting 3 folds for each of 6 candidates, totalling 18 fits\n"
     ]
    },
    {
     "name": "stderr",
     "output_type": "stream",
     "text": [
      "[Parallel(n_jobs=-1)]: Done  14 out of  18 | elapsed:   34.1s remaining:    9.7s\n",
      "[Parallel(n_jobs=-1)]: Done  18 out of  18 | elapsed:   41.3s finished\n"
     ]
    },
    {
     "name": "stdout",
     "output_type": "stream",
     "text": [
      "0.7663146493365828\n",
      "0.7544002166260493\n",
      "{'logreg__C': 0.01, 'logreg__penalty': 'l1'}\n",
      "Wall time: 44.7 s\n"
     ]
    }
   ],
   "source": [
    "%%time\n",
    "lr_pipe = Pipeline([\n",
    "    ('ss',StandardScaler()),\n",
    "    ('logreg',LogisticRegression())])\n",
    "\n",
    "lr_params = {\n",
    "    'logreg__penalty': ['l1','l2'], \n",
    "    'logreg__C': [0.01,0.06,1]\n",
    "}\n",
    "    \n",
    "gs = GridSearchCV(lr_pipe, param_grid=lr_params,verbose=1, n_jobs=-1)\n",
    "gs.fit(X_train,y_train)\n",
    "print(gs.score(X_train,y_train))\n",
    "print(gs.best_score_)\n",
    "print(gs.best_params_)"
   ]
  },
  {
   "cell_type": "code",
   "execution_count": 948,
   "metadata": {},
   "outputs": [
    {
     "name": "stdout",
     "output_type": "stream",
     "text": [
      "Fitting 3 folds for each of 150 candidates, totalling 450 fits\n"
     ]
    },
    {
     "name": "stderr",
     "output_type": "stream",
     "text": [
      "[Parallel(n_jobs=-1)]: Done  26 tasks      | elapsed:   10.3s\n",
      "[Parallel(n_jobs=-1)]: Done 176 tasks      | elapsed:   39.3s\n",
      "[Parallel(n_jobs=-1)]: Done 426 tasks      | elapsed:  1.2min\n",
      "[Parallel(n_jobs=-1)]: Done 450 out of 450 | elapsed:  1.3min finished\n"
     ]
    },
    {
     "name": "stdout",
     "output_type": "stream",
     "text": [
      "0.999458434876794\n",
      "0.7609233305853257\n",
      "0.7608989981045221\n",
      "{'max_depth': None, 'max_features': 3, 'n_estimators': 40}\n",
      "Wall time: 1min 21s\n"
     ]
    }
   ],
   "source": [
    "%%time\n",
    "rf = RandomForestClassifier()\n",
    "\n",
    "rf_params = {\n",
    "    'n_estimators': [2,3,4,5,6,7,10,20,30,40],\n",
    "    'max_features': [1,2,3],\n",
    "    'max_depth': [None,7,8,9,10]\n",
    "    \n",
    "}\n",
    "gs = GridSearchCV(rf, param_grid=rf_params, verbose=1,n_jobs=-1)\n",
    "gs.fit(X_train,y_train)\n",
    "print(gs.score(X_train,y_train))\n",
    "print(gs.score(X_test,y_test))\n",
    "print(gs.best_score_)\n",
    "print(gs.best_params_)"
   ]
  },
  {
   "cell_type": "code",
   "execution_count": 944,
   "metadata": {},
   "outputs": [
    {
     "name": "stdout",
     "output_type": "stream",
     "text": [
      "Fitting 3 folds for each of 19 candidates, totalling 57 fits\n"
     ]
    },
    {
     "name": "stderr",
     "output_type": "stream",
     "text": [
      "[Parallel(n_jobs=-1)]: Done  26 tasks      | elapsed:   53.7s\n",
      "[Parallel(n_jobs=-1)]: Done  57 out of  57 | elapsed:  2.7min finished\n"
     ]
    },
    {
     "name": "stdout",
     "output_type": "stream",
     "text": [
      "0.97143243975088\n",
      "0.7592743027349039\n",
      "{'n_estimators': 10}\n",
      "Wall time: 3min\n"
     ]
    }
   ],
   "source": [
    "%%time\n",
    "bag = BaggingClassifier(random_state=666)\n",
    "bag_params = {\n",
    "    'n_estimators': range(1,20)    \n",
    "}\n",
    "\n",
    "gs = GridSearchCV(bag, param_grid=bag_params,verbose = 1, n_jobs = -1)\n",
    "gs.fit(X_train, y_train)\n",
    "print(gs.score(X_train,y_train))\n",
    "print(gs.best_score_)\n",
    "print(gs.best_params_)"
   ]
  },
  {
   "cell_type": "code",
   "execution_count": 945,
   "metadata": {},
   "outputs": [
    {
     "name": "stdout",
     "output_type": "stream",
     "text": [
      "Fitting 3 folds for each of 18 candidates, totalling 54 fits\n"
     ]
    },
    {
     "name": "stderr",
     "output_type": "stream",
     "text": [
      "[Parallel(n_jobs=-1)]: Done  26 tasks      | elapsed:  2.2min\n",
      "[Parallel(n_jobs=-1)]: Done  54 out of  54 | elapsed:  4.3min finished\n"
     ]
    },
    {
     "name": "stdout",
     "output_type": "stream",
     "text": [
      "0.8069320335770377\n",
      "0.7752129705963177\n",
      "0.7791768210127268\n",
      "{'max_depth': 4, 'max_features': None, 'n_estimators': 100}\n",
      "Wall time: 4min 55s\n"
     ]
    }
   ],
   "source": [
    "%%time\n",
    "gb = GradientBoostingClassifier()\n",
    "gb_params = {\n",
    "    'max_depth': [ 3,4,5],\n",
    "    'n_estimators': [90, 100, 110],\n",
    "    'max_features': ['auto', None]\n",
    "}\n",
    "gs_gb = GridSearchCV(gb, param_grid=gb_params, verbose=1,n_jobs=-1)\n",
    "gs_gb.fit(X_train,y_train)\n",
    "print(gs_gb.score(X_train, y_train))\n",
    "print(gs_gb.score(X_test, y_test))\n",
    "print(gs_gb.best_score_)\n",
    "print(gs_gb.best_params_)"
   ]
  },
  {
   "cell_type": "code",
   "execution_count": 817,
   "metadata": {},
   "outputs": [
    {
     "data": {
      "text/html": [
       "<div>\n",
       "<style scoped>\n",
       "    .dataframe tbody tr th:only-of-type {\n",
       "        vertical-align: middle;\n",
       "    }\n",
       "\n",
       "    .dataframe tbody tr th {\n",
       "        vertical-align: top;\n",
       "    }\n",
       "\n",
       "    .dataframe thead th {\n",
       "        text-align: right;\n",
       "    }\n",
       "</style>\n",
       "<table border=\"1\" class=\"dataframe\">\n",
       "  <thead>\n",
       "    <tr style=\"text-align: right;\">\n",
       "      <th></th>\n",
       "      <th>time_int</th>\n",
       "    </tr>\n",
       "  </thead>\n",
       "  <tbody>\n",
       "    <tr>\n",
       "      <th>0</th>\n",
       "      <td>12.0</td>\n",
       "    </tr>\n",
       "    <tr>\n",
       "      <th>1</th>\n",
       "      <td>13.0</td>\n",
       "    </tr>\n",
       "    <tr>\n",
       "      <th>2</th>\n",
       "      <td>12.0</td>\n",
       "    </tr>\n",
       "    <tr>\n",
       "      <th>3</th>\n",
       "      <td>12.0</td>\n",
       "    </tr>\n",
       "    <tr>\n",
       "      <th>4</th>\n",
       "      <td>13.0</td>\n",
       "    </tr>\n",
       "  </tbody>\n",
       "</table>\n",
       "</div>"
      ],
      "text/plain": [
       "   time_int\n",
       "0      12.0\n",
       "1      13.0\n",
       "2      12.0\n",
       "3      12.0\n",
       "4      13.0"
      ]
     },
     "execution_count": 817,
     "metadata": {},
     "output_type": "execute_result"
    }
   ],
   "source": []
  },
  {
   "cell_type": "code",
   "execution_count": null,
   "metadata": {},
   "outputs": [],
   "source": []
  },
  {
   "cell_type": "code",
   "execution_count": 808,
   "metadata": {},
   "outputs": [
    {
     "data": {
      "text/plain": [
       "<matplotlib.collections.PathCollection at 0x1c53f398908>"
      ]
     },
     "execution_count": 808,
     "metadata": {},
     "output_type": "execute_result"
    },
    {
     "data": {
      "image/png": "[encoded data removed]",
      "text/plain": [
       "<matplotlib.figure.Figure at 0x1c51ee1add8>"
      ]
     },
     "metadata": {},
     "output_type": "display_data"
    }
   ],
   "source": [
    "plt.scatter(df['dec_post_time'], df['comments'])"
   ]
  },
  {
   "cell_type": "code",
   "execution_count": 985,
   "metadata": {},
   "outputs": [
    {
     "data": {
      "text/plain": [
       "[<matplotlib.lines.Line2D at 0x1c52e0f24e0>]"
      ]
     },
     "execution_count": 985,
     "metadata": {},
     "output_type": "execute_result"
    },
    {
     "data": {
      "image/png": "[encoded data removed]",
      "text/plain": [
       "<matplotlib.figure.Figure at 0x1c52db6cb38>"
      ]
     },
     "metadata": {},
     "output_type": "display_data"
    }
   ],
   "source": [
    "plt.plot(df.groupby('time_int')['comments'].median())"
   ]
  },
  {
   "cell_type": "code",
   "execution_count": 1039,
   "metadata": {},
   "outputs": [
    {
     "data": {
      "text/plain": [
       "True"
      ]
     },
     "execution_count": 1039,
     "metadata": {},
     "output_type": "execute_result"
    }
   ],
   "source": [
    "(df['subreddit'].value_counts() > 33)['r/EarthPorn']"
   ]
  },
  {
   "cell_type": "code",
   "execution_count": 1040,
   "metadata": {},
   "outputs": [],
   "source": [
    "df['active_sub']=[(df['subreddit'].value_counts() > 33)[x] for x in df['subreddit']]"
   ]
  },
  {
   "cell_type": "code",
   "execution_count": 1054,
   "metadata": {},
   "outputs": [],
   "source": [
    "col_1_df = pd.DataFrame(df[df['active_sub']==True].groupby('subreddit')['comments'].median().sort_values(ascending=False))"
   ]
  },
  {
   "cell_type": "code",
   "execution_count": 1056,
   "metadata": {},
   "outputs": [],
   "source": [
    "col_2_df = pd.DataFrame(df[df['active_sub']==True].groupby('subreddit')['comments'].mean().sort_values(ascending=False))"
   ]
  },
  {
   "cell_type": "code",
   "execution_count": 1066,
   "metadata": {},
   "outputs": [],
   "source": [
    "col_3 = pd.DataFrame(df[df['active_sub']==True].groupby('subreddit')['subs'].mean())\n"
   ]
  },
  {
   "cell_type": "code",
   "execution_count": 2,
   "metadata": {},
   "outputs": [],
   "source": [
    "df_subs= pd.concat(objs=[col_1_df,col_2_df,col_3], axis = 1)\n",
    "df_subs.set_axis(['Comments Median', 'Comments Mean', 'Subreddit Subscribers'], axis = 1, inplace=True)\n",
    "df_subs = df_subs.sort_values('Comments Mean', ascending=False).copy()"
   ]
  },
  {
   "cell_type": "code",
   "execution_count": 1120,
   "metadata": {},
   "outputs": [
    {
     "data": {
      "image/png": "[encoded data removed]",
      "text/plain": [
       "<matplotlib.figure.Figure at 0x1c576cabe48>"
      ]
     },
     "metadata": {},
     "output_type": "display_data"
    }
   ],
   "source": [
    "fig, ax = plt.subplots(figsize = (16,10))\n",
    "ax = sns.barplot(x=df_subs['Comments Mean'], y = df_subs.index, orient='h')\n"
   ]
  },
  {
   "cell_type": "code",
   "execution_count": 1121,
   "metadata": {},
   "outputs": [
    {
     "data": {
      "image/png": "[encoded data removed]",
      "text/plain": [
       "<matplotlib.figure.Figure at 0x1c576b614a8>"
      ]
     },
     "metadata": {},
     "output_type": "display_data"
    }
   ],
   "source": [
    "fig, ax = plt.subplots(figsize = (16,10))\n",
    "ax = sns.barplot(x=df_subs['Comments Mean']/df_subs['Subreddit Subscribers'], y = df_subs.index, orient='h')\n"
   ]
  },
  {
   "cell_type": "code",
   "execution_count": 977,
   "metadata": {},
   "outputs": [
    {
     "data": {
      "text/plain": [
       "0.7345132743362832"
      ]
     },
     "execution_count": 977,
     "metadata": {},
     "output_type": "execute_result"
    }
   ],
   "source": [
    "((df['target']==1) & df['spoiler']).sum()/ sum(df['spoiler']) # % pos that are spoiler"
   ]
  },
  {
   "cell_type": "code",
   "execution_count": 1124,
   "metadata": {},
   "outputs": [
    {
     "data": {
      "text/plain": [
       "0.23893805309734514"
      ]
     },
     "execution_count": 1124,
     "metadata": {},
     "output_type": "execute_result"
    }
   ],
   "source": [
    "((df['target']==1) & df['nsfw']).sum()/ sum(df['nsfw'])# % pos that are NSFW"
   ]
  }
 ],
 "metadata": {
  "anaconda-cloud": {},
  "kernelspec": {
   "display_name": "Python 3",
   "language": "python",
   "name": "python3"
  },
  "language_info": {
   "codemirror_mode": {
    "name": "ipython",
    "version": 3
   },
   "file_extension": ".py",
   "mimetype": "text/x-python",
   "name": "python",
   "nbconvert_exporter": "python",
   "pygments_lexer": "ipython3",
   "version": "3.5.6"
  },
  "varInspector": {
   "cols": {
    "lenName": 16,
    "lenType": 16,
    "lenVar": 40
   },
   "kernels_config": {
    "python": {
     "delete_cmd_postfix": "",
     "delete_cmd_prefix": "del ",
     "library": "var_list.py",
     "varRefreshCmd": "print(var_dic_list())"
    },
    "r": {
     "delete_cmd_postfix": ") ",
     "delete_cmd_prefix": "rm(",
     "library": "var_list.r",
     "varRefreshCmd": "cat(var_dic_list()) "
    }
   },
   "types_to_exclude": [
    "module",
    "function",
    "builtin_function_or_method",
    "instance",
    "_Feature"
   ],
   "window_display": false
  },
  "widgets": {
   "state": {},
   "version": "1.1.2"
  }
 },
 "nbformat": 4,
 "nbformat_minor": 1
}
